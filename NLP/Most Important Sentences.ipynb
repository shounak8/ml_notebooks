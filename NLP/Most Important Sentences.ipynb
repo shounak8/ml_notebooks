{
 "cells": [
  {
   "cell_type": "code",
   "execution_count": 7,
   "metadata": {},
   "outputs": [],
   "source": [
    "import urllib\n",
    "import urllib3\n",
    "from bs4 import BeautifulSoup\n",
    "import nltk\n",
    "from nltk import sent_tokenize, word_tokenize\n",
    "from nltk.corpus import stopwords\n",
    "from string import punctuation\n",
    "from nltk import FreqDist\n",
    "from collections import defaultdict\n",
    "from heapq import nlargest"
   ]
  },
  {
   "cell_type": "code",
   "execution_count": 8,
   "metadata": {},
   "outputs": [],
   "source": [
    "def summarize(n):\n",
    "    text = str(input())\n",
    "    sents = sent_tokenize(text)\n",
    "    \n",
    "    assert n<= len(sents)\n",
    "    word_sent = word_tokenize(text.lower())\n",
    "    \n",
    "    word_sent = [word for word in word_sent if word not in set(stopwords.words('english') + list(punctuation))]\n",
    "    freq = FreqDist(word_sent)\n",
    "    \n",
    "    ranking = defaultdict(int)\n",
    "    \n",
    "    for i, sent in enumerate(sents):\n",
    "        for w in word_tokenize(sent.lower()):\n",
    "            if w in freq:\n",
    "                ranking[i] += freq[w]\n",
    "                \n",
    "    sents_idx = nlargest(n, ranking, key = ranking.get)\n",
    "    \n",
    "    return [sents[j] for j in sorted(sents_idx)]"
   ]
  },
  {
   "cell_type": "code",
   "execution_count": 13,
   "metadata": {},
   "outputs": [
    {
     "name": "stdout",
     "output_type": "stream",
     "text": [
      "Twenty-three days after Thanos used the Infinity Gauntlet to kill half of all life in the universe,[N 1] Carol Danvers rescues Tony Stark and Nebula from deep space and they reunite with the remaining Avengers—Bruce Banner, Steve Rogers, Thor, Natasha Romanoff, and James Rhodes—and Rocket on Earth. Locating Thanos on an uninhabited planet, they plan to use the Infinity Stones to reverse \"the Snap\", but Thanos destroyed the Stones to prevent further use. Enraged, Thor decapitates Thanos.  Five years later, Scott Lang escapes from the quantum realm.[N 2] At the Avengers' compound, he explains that he experienced five hours, not years, while trapped. Theorizing the quantum realm could allow time travel, they ask Stark to help them get the Stones from the past to reverse Thanos' disintergrations in the present. Stark refuses, thinking about his wife Pepper Potts and daughter Morgan, but relents after musing over Peter Parker. Stark, Rocket, and Banner, who has since merged his intelligence with the Hulk's strength, build a time machine. Banner notes that changing the past does not affect their present; any changes create alternate realities. In Norway, Banner and Rocket recruit an overweight Thor in the Asgardian refugees' new home New Asgard. In Tokyo, Romanoff recruits Clint Barton, now a vigilante after the death of his family.  Banner, Lang, Rogers, and Stark travel to Loki's attack on New York City in 2012.[N 3] At the Sanctum Sanctorum, Banner convinces the Ancient One to give him the Time Stone by promising to return the various Stones to their proper points in time. At Stark Tower, Rogers retrieves the Mind Stone, but Stark and Lang's attempt to steal the Space Stone fails, allowing 2012 Loki to escape with it. Rogers and Stark travel to S.H.I.E.L.D. headquarters in 1970, where Stark obtains an earlier version of the Space Stone and encounters his father, Howard. Rogers steals and uses Pym Particles from Hank Pym to return to the present and spies lost love, Peggy Carter.  Meanwhile, Rocket and Thor travel to Asgard in 2013,[N 4] extracting the Reality Stone from Jane Foster and retrieving Thor's hammer Mjolnir. Barton, Romanoff, Nebula, and Rhodes travel to 2014; Nebula and Rhodes travel to Morag and steal the Power Stone before Peter Quill can,[N 5] while Barton and Romanoff travel to Vormir. The Soul Stone's keeper, Red Skull, reveals it can only be acquired by sacrificing someone they love. Romanoff sacrifices herself, allowing Barton to get the Stone. Rhodes and Nebula attempt to return to their own time, but Nebula is incapacitated when her cybernetic implants link with her past self, allowing 2014 Thanos to learn his future self's success and eventual death at the hands of the Avengers. He sends 2014 Nebula forward in time to prepare for his arrival.  Reuniting in the present, the Avengers place the Stones into the technological gauntlet Stark, Banner, and Rocket created. Banner, having the most resistance to their gamma radiation, wields the gauntlet and reverses Thanos' disintergrations. Meanwhile, 2014 Nebula, impersonating her future self, uses the time machine to transport 2014 Thanos and his warship to the present, destroying the Avengers' compound in the process. Present-day Nebula convinces 2014 Gamora to betray Thanos but is unable to convince 2014 Nebula and kills her. Thanos overpowers Stark, Thor, and a Mjolnir-wielding Rogers and summons his army from his warship to retrieve the Stones, intent on using them to destroy the universe and create a new one. A restored Stephen Strange arrives with other sorcerers, the restored Avengers and Guardians of the Galaxy, the Ravagers, and the armies of Wakanda and Asgard to fight Thanos and his army. Danvers arrives and destroys Thanos' warship, but Thanos overpowers her and seizes the gauntlet. Stark steals the Stones and uses them to disintegrate Thanos and his army, at the cost of his own life.  Following Stark's funeral, Thor appoints Valkyrie as the new ruler of New Asgard and joins the Guardians. Rogers returns the Stones and Mjolnir to their proper timelines and remains in the past to live with Carter. In the present, an elderly Rogers passes his shield and mantle to Sam Wilson.\n"
     ]
    },
    {
     "data": {
      "text/plain": [
       "['Twenty-three days after Thanos used the Infinity Gauntlet to kill half of all life in the universe,[N 1] Carol Danvers rescues Tony Stark and Nebula from deep space and they reunite with the remaining Avengers—Bruce Banner, Steve Rogers, Thor, Natasha Romanoff, and James Rhodes—and Rocket on Earth.',\n",
       " \"Theorizing the quantum realm could allow time travel, they ask Stark to help them get the Stones from the past to reverse Thanos' disintergrations in the present.\",\n",
       " \"At Stark Tower, Rogers retrieves the Mind Stone, but Stark and Lang's attempt to steal the Space Stone fails, allowing 2012 Loki to escape with it.\",\n",
       " \"Meanwhile, Rocket and Thor travel to Asgard in 2013,[N 4] extracting the Reality Stone from Jane Foster and retrieving Thor's hammer Mjolnir.\",\n",
       " 'Barton, Romanoff, Nebula, and Rhodes travel to 2014; Nebula and Rhodes travel to Morag and steal the Power Stone before Peter Quill can,[N 5] while Barton and Romanoff travel to Vormir.',\n",
       " \"Rhodes and Nebula attempt to return to their own time, but Nebula is incapacitated when her cybernetic implants link with her past self, allowing 2014 Thanos to learn his future self's success and eventual death at the hands of the Avengers.\",\n",
       " \"Meanwhile, 2014 Nebula, impersonating her future self, uses the time machine to transport 2014 Thanos and his warship to the present, destroying the Avengers' compound in the process.\",\n",
       " 'Thanos overpowers Stark, Thor, and a Mjolnir-wielding Rogers and summons his army from his warship to retrieve the Stones, intent on using them to destroy the universe and create a new one.']"
      ]
     },
     "execution_count": 13,
     "metadata": {},
     "output_type": "execute_result"
    }
   ],
   "source": [
    "summarize(8)"
   ]
  }
 ],
 "metadata": {
  "kernelspec": {
   "display_name": "Python 3",
   "language": "python",
   "name": "python3"
  },
  "language_info": {
   "codemirror_mode": {
    "name": "ipython",
    "version": 3
   },
   "file_extension": ".py",
   "mimetype": "text/x-python",
   "name": "python",
   "nbconvert_exporter": "python",
   "pygments_lexer": "ipython3",
   "version": "3.8.3"
  }
 },
 "nbformat": 4,
 "nbformat_minor": 4
}
