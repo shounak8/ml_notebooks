{
 "cells": [
  {
   "cell_type": "code",
   "execution_count": 7,
   "metadata": {},
   "outputs": [],
   "source": [
    "import urllib\n",
    "import urllib3\n",
    "from bs4 import BeautifulSoup\n",
    "import nltk\n",
    "from nltk import sent_tokenize, word_tokenize\n",
    "from nltk.corpus import stopwords\n",
    "from string import punctuation\n",
    "from nltk import FreqDist\n",
    "from collections import defaultdict\n",
    "from heapq import nlargest"
   ]
  },
  {
   "cell_type": "code",
   "execution_count": 8,
   "metadata": {},
   "outputs": [],
   "source": [
    "def summarize(n):\n",
    "    text = str(input())\n",
    "    sents = sent_tokenize(text)\n",
    "    \n",
    "    assert n<= len(sents)\n",
    "    word_sent = word_tokenize(text.lower())\n",
    "    \n",
    "    word_sent = [word for word in word_sent if word not in set(stopwords.words('english') + list(punctuation))]\n",
    "    freq = FreqDist(word_sent)\n",
    "    \n",
    "    ranking = defaultdict(int)\n",
    "    \n",
    "    for i, sent in enumerate(sents):\n",
    "        for w in word_tokenize(sent.lower()):\n",
    "            if w in freq:\n",
    "                ranking[i] += freq[w]\n",
    "                \n",
    "    sents_idx = nlargest(n, ranking, key = ranking.get)\n",
    "    \n",
    "    return [sents[j] for j in sorted(sents_idx)]"
   ]
  },
  {
   "cell_type": "code",
   "execution_count": 11,
   "metadata": {},
   "outputs": [
    {
     "name": "stdout",
     "output_type": "stream",
     "text": [
      "Two Hobbits, Sméagol and Déagol, are fishing when Déagol discovers the One Ring in the river. Sméagol is ensnared by the Ring, and kills his friend for it. He retreats into the Misty Mountains as the Ring twists his body and mind, until he becomes the creature \"Gollum\".  Centuries later, during the War of the Ring, Gandalf leads Aragorn, Legolas, Gimli, and King Théoden to Isengard, where they reunite with Merry and Pippin. The group subsequently confront Saruman at his tower, where Théoden attempts to implore his treacherous servant Gríma Wormtongue in rebelling against Saruman. When Saruman dismisses this and hits Wormtongue, the latter responds by stabbing Saruman until Legolas kills Wormtongue by firing a bow at him; Saruman then dies when he falls off his tower to his death (all of Saruman's scene is solely in the Extended Edition). Shortly afterwards, Gandalf retrieves Saruman's palantír and the group leaves Isengard to continue their journey. Pippin soon looks into the seeing-stone and is seen by Sauron. From Pippin's description of his visions, Gandalf surmises that Sauron will attack Gondor's capital Minas Tirith. He rides there to warn Gondor's steward Denethor, taking Pippin with him.  Gollum leads Frodo Baggins and Samwise Gamgee to Minas Morgul, where they watch the Witch-king of Angmar, leader of the nine Nazgûl, lead an army of Orcs towards Gondor. The hobbits begin climbing a stair carved in the cliff face that leads to a secret tunnel into Mordor, unaware that Gollum plans to kill them and take the Ring. The Witch-king and his forces strike and overwhelm Osgiliath, forcing Faramir and his garrison to retreat to Minas Tirith.  Gollum disposes of the Hobbits' food, blaming Sam. Believing that Sam desires the Ring, Frodo tells him to go home before he and Gollum continue to the tunnel leading to Mordor. Gollum tricks him into venturing into the lair of the giant spider Shelob. Frodo narrowly escapes and confronts Gollum, telling him that he must destroy the Ring for both their sakes. Gollum attacks Frodo but falls down a chasm. Frodo continues on, but Shelob discovers, paralyses, and binds him. Sam returns and injures Shelob, driving her away, but then hides as Orcs appear and take Frodo with them. The Orcs prepare to execute Frodo, but they end up fighting each other over ownership of Frodo's mithril; the distraction allows Sam to rescue Frodo, and they escape before going on to continue their journey.  As King Théoden gathers the Rohirrim army, Aragorn learns from Elrond that Arwen is dying, having refused to leave Middle Earth to be with Aragorn after seeing a vision of their future son. Arwen convinced a reluctant Elrond to order the shards of King Elendil's sword, Narsil, be reforged into Andúril so that Aragorn can reclaim his birthright and gain reinforcements from the ghostly Dead Men of Dunharrow. Joined by Legolas and Gimli, Aragorn travels to the Dead Men's lair, pledging to release them from Isildur's undead curse should they come to Gondor's aid.  Faramir is gravely wounded after a futile effort to recapture Osgiliath; believing his son to be dead, Denethor falls into madness. Gandalf is left to defend the city against the Orc army, led by Gothmog. As Gothmog's army forces its way into the city, Denethor attempts to kill himself and Faramir on a pyre. Pippin alerts Gandalf and they save Faramir, but a burning Denethor leaps to his death from the top of Minas Tirith just before Théoden and his nephew, Éomer, arrive with the Rohirrim. During the ensuing battle, they are overwhelmed by the Oliphaunt-riding Haradrim and the Witch-King mortally wounds Théoden. Just as the Witch-king prepares to finish Théoden off, his niece Éowyn battles and manages to kill the Witch-king with Merry's help; Éowyn subsequently tends to Théoden afterwards and they bid each farewell before Théoden dies in front of his niece. Aragorn then arrives with the Army of the Dead, who overcome Sauron's forces and win the battle; afterwards, Aragorn frees the Dead Men from their curse.  Aragorn decides to march upon the Black Gate as a distraction so Frodo and Sam can reach Mount Doom. Aragorn's army draws out Sauron's remaining forces and empties Mordor, allowing Frodo and Sam to reach the volcano, but Gollum attacks them just as they reach Mount Doom. As Frodo stands on the ledge over the volcanic fire, he succumbs to the Ring and claims it as his own, putting it on his finger. Gollum finds the invisible Frodo and attacks him, biting his finger off to reclaim the Ring. Frodo attacks Gollum in an attempt to reclaim the Ring, and in the ensuing struggle they both fall off the ledge. Gollum falls into the lava with the Ring and dies. Frodo clings to the side of the ledge and is rescued by Sam as the Ring disintegrates in the lava. As Frodo and Sam escape, Sauron is defeated—along with his Orcs and Nazgûl—as Mordor crumbles, finally destroying Sauron once and for all.  Gandalf flies in with eagles in the battle's aftermath to rescue the Hobbits, who awaken in Minas Tirith and are reunited with the surviving Fellowship. Aragorn is crowned King of Gondor and takes Arwen as his queen. The Hobbits return home to the Shire, where Sam marries Rosie Cotton. A few years later, Frodo departs Middle-earth for the Undying Lands with his uncle Bilbo, Gandalf, and the Elves. He leaves Sam the Red Book of Westmarch, which details their adventures. Sam returns to the Shire, where he embraces Rosie and their children. The last words of both the book and the film are the same - \"Well, I'm back.\"\n"
     ]
    },
    {
     "data": {
      "text/plain": [
       "[\"Aragorn's army draws out Sauron's remaining forces and empties Mordor, allowing Frodo and Sam to reach the volcano, but Gollum attacks them just as they reach Mount Doom.\"]"
      ]
     },
     "execution_count": 11,
     "metadata": {},
     "output_type": "execute_result"
    }
   ],
   "source": [
    "summarize(1)"
   ]
  }
 ],
 "metadata": {
  "kernelspec": {
   "display_name": "Python 3",
   "language": "python",
   "name": "python3"
  },
  "language_info": {
   "codemirror_mode": {
    "name": "ipython",
    "version": 3
   },
   "file_extension": ".py",
   "mimetype": "text/x-python",
   "name": "python",
   "nbconvert_exporter": "python",
   "pygments_lexer": "ipython3",
   "version": "3.8.3"
  }
 },
 "nbformat": 4,
 "nbformat_minor": 4
}
