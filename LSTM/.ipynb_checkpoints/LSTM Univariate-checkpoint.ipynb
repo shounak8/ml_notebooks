{
 "cells": [
  {
   "cell_type": "code",
   "execution_count": 1,
   "metadata": {},
   "outputs": [],
   "source": [
    "import pandas as pd\n",
    "import numpy as np\n",
    "import tensorflow as tf\n",
    "import matplotlib.pyplot as plt"
   ]
  },
  {
   "cell_type": "code",
   "execution_count": 2,
   "metadata": {},
   "outputs": [],
   "source": [
    "df5 = pd.read_csv('weather_2013_2019.csv')"
   ]
  },
  {
   "cell_type": "code",
   "execution_count": 3,
   "metadata": {},
   "outputs": [
    {
     "data": {
      "text/html": [
       "<div>\n",
       "<style scoped>\n",
       "    .dataframe tbody tr th:only-of-type {\n",
       "        vertical-align: middle;\n",
       "    }\n",
       "\n",
       "    .dataframe tbody tr th {\n",
       "        vertical-align: top;\n",
       "    }\n",
       "\n",
       "    .dataframe thead th {\n",
       "        text-align: right;\n",
       "    }\n",
       "</style>\n",
       "<table border=\"1\" class=\"dataframe\">\n",
       "  <thead>\n",
       "    <tr style=\"text-align: right;\">\n",
       "      <th></th>\n",
       "      <th>Unnamed: 0</th>\n",
       "      <th>dt</th>\n",
       "      <th>dt_iso</th>\n",
       "      <th>city_id</th>\n",
       "      <th>city_name</th>\n",
       "      <th>temp</th>\n",
       "      <th>temp_min</th>\n",
       "      <th>temp_max</th>\n",
       "      <th>pressure</th>\n",
       "      <th>humidity</th>\n",
       "      <th>wind_speed</th>\n",
       "      <th>wind_deg</th>\n",
       "      <th>rain_1h</th>\n",
       "      <th>rain_3h</th>\n",
       "      <th>snow_3h</th>\n",
       "      <th>clouds_all</th>\n",
       "      <th>weather_id</th>\n",
       "      <th>weather_main</th>\n",
       "      <th>weather_description</th>\n",
       "      <th>weather_icon</th>\n",
       "    </tr>\n",
       "  </thead>\n",
       "  <tbody>\n",
       "    <tr>\n",
       "      <th>0</th>\n",
       "      <td>0</td>\n",
       "      <td>2013-10-01 02:00:00</td>\n",
       "      <td>2013-10-01 00:00:00 +0000 UTC</td>\n",
       "      <td>2509954</td>\n",
       "      <td>Valencia</td>\n",
       "      <td>299.15</td>\n",
       "      <td>299.15</td>\n",
       "      <td>299.15</td>\n",
       "      <td>1008</td>\n",
       "      <td>61</td>\n",
       "      <td>5</td>\n",
       "      <td>290</td>\n",
       "      <td>0.0</td>\n",
       "      <td>0.0</td>\n",
       "      <td>0.0</td>\n",
       "      <td>20</td>\n",
       "      <td>801</td>\n",
       "      <td>clouds</td>\n",
       "      <td>few clouds</td>\n",
       "      <td>02n</td>\n",
       "    </tr>\n",
       "    <tr>\n",
       "      <th>1</th>\n",
       "      <td>1</td>\n",
       "      <td>2013-10-01 03:00:00</td>\n",
       "      <td>2013-10-01 01:00:00 +0000 UTC</td>\n",
       "      <td>2509954</td>\n",
       "      <td>Valencia</td>\n",
       "      <td>298.15</td>\n",
       "      <td>298.15</td>\n",
       "      <td>298.15</td>\n",
       "      <td>1009</td>\n",
       "      <td>65</td>\n",
       "      <td>4</td>\n",
       "      <td>250</td>\n",
       "      <td>0.0</td>\n",
       "      <td>0.0</td>\n",
       "      <td>0.0</td>\n",
       "      <td>20</td>\n",
       "      <td>801</td>\n",
       "      <td>clouds</td>\n",
       "      <td>few clouds</td>\n",
       "      <td>02n</td>\n",
       "    </tr>\n",
       "  </tbody>\n",
       "</table>\n",
       "</div>"
      ],
      "text/plain": [
       "   Unnamed: 0                   dt                         dt_iso  city_id  \\\n",
       "0           0  2013-10-01 02:00:00  2013-10-01 00:00:00 +0000 UTC  2509954   \n",
       "1           1  2013-10-01 03:00:00  2013-10-01 01:00:00 +0000 UTC  2509954   \n",
       "\n",
       "  city_name    temp  temp_min  temp_max  pressure  humidity  wind_speed  \\\n",
       "0  Valencia  299.15    299.15    299.15      1008        61           5   \n",
       "1  Valencia  298.15    298.15    298.15      1009        65           4   \n",
       "\n",
       "   wind_deg  rain_1h  rain_3h  snow_3h  clouds_all  weather_id weather_main  \\\n",
       "0       290      0.0      0.0      0.0          20         801       clouds   \n",
       "1       250      0.0      0.0      0.0          20         801       clouds   \n",
       "\n",
       "  weather_description weather_icon  \n",
       "0          few clouds          02n  \n",
       "1          few clouds          02n  "
      ]
     },
     "execution_count": 3,
     "metadata": {},
     "output_type": "execute_result"
    }
   ],
   "source": [
    "df5.head(2)"
   ]
  },
  {
   "cell_type": "code",
   "execution_count": 4,
   "metadata": {},
   "outputs": [
    {
     "data": {
      "text/plain": [
       "Madrid        53357\n",
       "Bilbao        52774\n",
       "Seville       52488\n",
       " Barcelona    52416\n",
       "Valencia      51965\n",
       "Name: city_name, dtype: int64"
      ]
     },
     "execution_count": 4,
     "metadata": {},
     "output_type": "execute_result"
    }
   ],
   "source": [
    "df5.city_name.value_counts()"
   ]
  },
  {
   "cell_type": "code",
   "execution_count": 5,
   "metadata": {},
   "outputs": [],
   "source": [
    "# let us consider only for Madrid\n",
    "df4 = df5[df5.city_name == 'Madrid'].copy()"
   ]
  },
  {
   "cell_type": "code",
   "execution_count": 6,
   "metadata": {},
   "outputs": [
    {
     "data": {
      "text/html": [
       "<div>\n",
       "<style scoped>\n",
       "    .dataframe tbody tr th:only-of-type {\n",
       "        vertical-align: middle;\n",
       "    }\n",
       "\n",
       "    .dataframe tbody tr th {\n",
       "        vertical-align: top;\n",
       "    }\n",
       "\n",
       "    .dataframe thead th {\n",
       "        text-align: right;\n",
       "    }\n",
       "</style>\n",
       "<table border=\"1\" class=\"dataframe\">\n",
       "  <thead>\n",
       "    <tr style=\"text-align: right;\">\n",
       "      <th></th>\n",
       "      <th>Unnamed: 0</th>\n",
       "      <th>dt</th>\n",
       "      <th>dt_iso</th>\n",
       "      <th>city_id</th>\n",
       "      <th>city_name</th>\n",
       "      <th>temp</th>\n",
       "      <th>temp_min</th>\n",
       "      <th>temp_max</th>\n",
       "      <th>pressure</th>\n",
       "      <th>humidity</th>\n",
       "      <th>wind_speed</th>\n",
       "      <th>wind_deg</th>\n",
       "      <th>rain_1h</th>\n",
       "      <th>rain_3h</th>\n",
       "      <th>snow_3h</th>\n",
       "      <th>clouds_all</th>\n",
       "      <th>weather_id</th>\n",
       "      <th>weather_main</th>\n",
       "      <th>weather_description</th>\n",
       "      <th>weather_icon</th>\n",
       "    </tr>\n",
       "  </thead>\n",
       "  <tbody>\n",
       "    <tr>\n",
       "      <th>51965</th>\n",
       "      <td>51965</td>\n",
       "      <td>2013-10-01 02:00:00</td>\n",
       "      <td>2013-10-01 00:00:00 +0000 UTC</td>\n",
       "      <td>3117735</td>\n",
       "      <td>Madrid</td>\n",
       "      <td>291.86</td>\n",
       "      <td>291.86</td>\n",
       "      <td>291.86</td>\n",
       "      <td>1012</td>\n",
       "      <td>94</td>\n",
       "      <td>3</td>\n",
       "      <td>210</td>\n",
       "      <td>0.0</td>\n",
       "      <td>0.0</td>\n",
       "      <td>0.0</td>\n",
       "      <td>92</td>\n",
       "      <td>804</td>\n",
       "      <td>clouds</td>\n",
       "      <td>overcast clouds</td>\n",
       "      <td>04</td>\n",
       "    </tr>\n",
       "    <tr>\n",
       "      <th>51966</th>\n",
       "      <td>51966</td>\n",
       "      <td>2013-10-01 03:00:00</td>\n",
       "      <td>2013-10-01 01:00:00 +0000 UTC</td>\n",
       "      <td>3117735</td>\n",
       "      <td>Madrid</td>\n",
       "      <td>292.10</td>\n",
       "      <td>292.04</td>\n",
       "      <td>292.15</td>\n",
       "      <td>1012</td>\n",
       "      <td>93</td>\n",
       "      <td>4</td>\n",
       "      <td>180</td>\n",
       "      <td>0.0</td>\n",
       "      <td>0.0</td>\n",
       "      <td>0.0</td>\n",
       "      <td>92</td>\n",
       "      <td>300</td>\n",
       "      <td>drizzle</td>\n",
       "      <td>light intensity drizzle</td>\n",
       "      <td>09n</td>\n",
       "    </tr>\n",
       "  </tbody>\n",
       "</table>\n",
       "</div>"
      ],
      "text/plain": [
       "       Unnamed: 0                   dt                         dt_iso  \\\n",
       "51965       51965  2013-10-01 02:00:00  2013-10-01 00:00:00 +0000 UTC   \n",
       "51966       51966  2013-10-01 03:00:00  2013-10-01 01:00:00 +0000 UTC   \n",
       "\n",
       "       city_id city_name    temp  temp_min  temp_max  pressure  humidity  \\\n",
       "51965  3117735    Madrid  291.86    291.86    291.86      1012        94   \n",
       "51966  3117735    Madrid  292.10    292.04    292.15      1012        93   \n",
       "\n",
       "       wind_speed  wind_deg  rain_1h  rain_3h  snow_3h  clouds_all  \\\n",
       "51965           3       210      0.0      0.0      0.0          92   \n",
       "51966           4       180      0.0      0.0      0.0          92   \n",
       "\n",
       "       weather_id weather_main      weather_description weather_icon  \n",
       "51965         804       clouds          overcast clouds           04  \n",
       "51966         300      drizzle  light intensity drizzle          09n  "
      ]
     },
     "execution_count": 6,
     "metadata": {},
     "output_type": "execute_result"
    }
   ],
   "source": [
    "df4.head(2)"
   ]
  },
  {
   "cell_type": "code",
   "execution_count": 7,
   "metadata": {},
   "outputs": [],
   "source": [
    "date = []\n",
    "time = []\n",
    "for i in range(len(df4)):\n",
    "    a = df5['dt'][i].split()\n",
    "    date.append(a[0])\n",
    "    time.append(a[1])"
   ]
  },
  {
   "cell_type": "code",
   "execution_count": 8,
   "metadata": {},
   "outputs": [],
   "source": [
    "df3 = pd.DataFrame()\n",
    "df3['date'] = date\n",
    "df3['time'] = time\n",
    "df3['temp'] = df4['temp'].to_list()"
   ]
  },
  {
   "cell_type": "code",
   "execution_count": 9,
   "metadata": {},
   "outputs": [
    {
     "data": {
      "text/html": [
       "<div>\n",
       "<style scoped>\n",
       "    .dataframe tbody tr th:only-of-type {\n",
       "        vertical-align: middle;\n",
       "    }\n",
       "\n",
       "    .dataframe tbody tr th {\n",
       "        vertical-align: top;\n",
       "    }\n",
       "\n",
       "    .dataframe thead th {\n",
       "        text-align: right;\n",
       "    }\n",
       "</style>\n",
       "<table border=\"1\" class=\"dataframe\">\n",
       "  <thead>\n",
       "    <tr style=\"text-align: right;\">\n",
       "      <th></th>\n",
       "      <th>date</th>\n",
       "      <th>time</th>\n",
       "      <th>temp</th>\n",
       "    </tr>\n",
       "  </thead>\n",
       "  <tbody>\n",
       "    <tr>\n",
       "      <th>0</th>\n",
       "      <td>2013-10-01</td>\n",
       "      <td>02:00:00</td>\n",
       "      <td>291.860</td>\n",
       "    </tr>\n",
       "    <tr>\n",
       "      <th>1</th>\n",
       "      <td>2013-10-01</td>\n",
       "      <td>03:00:00</td>\n",
       "      <td>292.100</td>\n",
       "    </tr>\n",
       "    <tr>\n",
       "      <th>2</th>\n",
       "      <td>2013-10-01</td>\n",
       "      <td>04:00:00</td>\n",
       "      <td>291.761</td>\n",
       "    </tr>\n",
       "  </tbody>\n",
       "</table>\n",
       "</div>"
      ],
      "text/plain": [
       "         date      time     temp\n",
       "0  2013-10-01  02:00:00  291.860\n",
       "1  2013-10-01  03:00:00  292.100\n",
       "2  2013-10-01  04:00:00  291.761"
      ]
     },
     "execution_count": 9,
     "metadata": {},
     "output_type": "execute_result"
    }
   ],
   "source": [
    "df3.head(3)"
   ]
  },
  {
   "cell_type": "code",
   "execution_count": 10,
   "metadata": {},
   "outputs": [],
   "source": [
    "# Focusing only on temperature at 12 PM\n",
    "df2 = df3[df3.time == '12:00:00'].copy()"
   ]
  },
  {
   "cell_type": "code",
   "execution_count": 11,
   "metadata": {},
   "outputs": [
    {
     "data": {
      "text/html": [
       "<div>\n",
       "<style scoped>\n",
       "    .dataframe tbody tr th:only-of-type {\n",
       "        vertical-align: middle;\n",
       "    }\n",
       "\n",
       "    .dataframe tbody tr th {\n",
       "        vertical-align: top;\n",
       "    }\n",
       "\n",
       "    .dataframe thead th {\n",
       "        text-align: right;\n",
       "    }\n",
       "</style>\n",
       "<table border=\"1\" class=\"dataframe\">\n",
       "  <thead>\n",
       "    <tr style=\"text-align: right;\">\n",
       "      <th></th>\n",
       "      <th>date</th>\n",
       "      <th>time</th>\n",
       "      <th>temp</th>\n",
       "    </tr>\n",
       "  </thead>\n",
       "  <tbody>\n",
       "    <tr>\n",
       "      <th>10</th>\n",
       "      <td>2013-10-01</td>\n",
       "      <td>12:00:00</td>\n",
       "      <td>293.663344</td>\n",
       "    </tr>\n",
       "    <tr>\n",
       "      <th>34</th>\n",
       "      <td>2013-10-02</td>\n",
       "      <td>12:00:00</td>\n",
       "      <td>294.440688</td>\n",
       "    </tr>\n",
       "    <tr>\n",
       "      <th>58</th>\n",
       "      <td>2013-10-03</td>\n",
       "      <td>12:00:00</td>\n",
       "      <td>295.770000</td>\n",
       "    </tr>\n",
       "  </tbody>\n",
       "</table>\n",
       "</div>"
      ],
      "text/plain": [
       "          date      time        temp\n",
       "10  2013-10-01  12:00:00  293.663344\n",
       "34  2013-10-02  12:00:00  294.440688\n",
       "58  2013-10-03  12:00:00  295.770000"
      ]
     },
     "execution_count": 11,
     "metadata": {},
     "output_type": "execute_result"
    }
   ],
   "source": [
    "df2.head(3)"
   ]
  },
  {
   "cell_type": "code",
   "execution_count": 12,
   "metadata": {},
   "outputs": [],
   "source": [
    "date2 = df2.date.to_list()[1:]"
   ]
  },
  {
   "cell_type": "code",
   "execution_count": 13,
   "metadata": {},
   "outputs": [],
   "source": [
    "date2.append('2013-11-27')"
   ]
  },
  {
   "cell_type": "code",
   "execution_count": 14,
   "metadata": {},
   "outputs": [],
   "source": [
    "df2['date2'] = date2"
   ]
  },
  {
   "cell_type": "code",
   "execution_count": 15,
   "metadata": {},
   "outputs": [
    {
     "data": {
      "text/html": [
       "<div>\n",
       "<style scoped>\n",
       "    .dataframe tbody tr th:only-of-type {\n",
       "        vertical-align: middle;\n",
       "    }\n",
       "\n",
       "    .dataframe tbody tr th {\n",
       "        vertical-align: top;\n",
       "    }\n",
       "\n",
       "    .dataframe thead th {\n",
       "        text-align: right;\n",
       "    }\n",
       "</style>\n",
       "<table border=\"1\" class=\"dataframe\">\n",
       "  <thead>\n",
       "    <tr style=\"text-align: right;\">\n",
       "      <th></th>\n",
       "      <th>date</th>\n",
       "      <th>time</th>\n",
       "      <th>temp</th>\n",
       "      <th>date2</th>\n",
       "    </tr>\n",
       "  </thead>\n",
       "  <tbody>\n",
       "    <tr>\n",
       "      <th>53306</th>\n",
       "      <td>2013-11-25</td>\n",
       "      <td>12:00:00</td>\n",
       "      <td>297.75</td>\n",
       "      <td>2013-11-26</td>\n",
       "    </tr>\n",
       "    <tr>\n",
       "      <th>53330</th>\n",
       "      <td>2013-11-26</td>\n",
       "      <td>12:00:00</td>\n",
       "      <td>298.27</td>\n",
       "      <td>2013-11-27</td>\n",
       "    </tr>\n",
       "    <tr>\n",
       "      <th>53354</th>\n",
       "      <td>2013-11-27</td>\n",
       "      <td>12:00:00</td>\n",
       "      <td>298.97</td>\n",
       "      <td>2013-11-27</td>\n",
       "    </tr>\n",
       "  </tbody>\n",
       "</table>\n",
       "</div>"
      ],
      "text/plain": [
       "             date      time    temp       date2\n",
       "53306  2013-11-25  12:00:00  297.75  2013-11-26\n",
       "53330  2013-11-26  12:00:00  298.27  2013-11-27\n",
       "53354  2013-11-27  12:00:00  298.97  2013-11-27"
      ]
     },
     "execution_count": 15,
     "metadata": {},
     "output_type": "execute_result"
    }
   ],
   "source": [
    "df2.tail(3)"
   ]
  },
  {
   "cell_type": "code",
   "execution_count": 16,
   "metadata": {},
   "outputs": [],
   "source": [
    "df2.date = pd.to_datetime(df2.date)\n",
    "df2.date2 = pd.to_datetime(df2.date2)"
   ]
  },
  {
   "cell_type": "code",
   "execution_count": 17,
   "metadata": {},
   "outputs": [],
   "source": [
    "df2['difference'] = df2.date2 - df2.date"
   ]
  },
  {
   "cell_type": "code",
   "execution_count": 18,
   "metadata": {},
   "outputs": [
    {
     "data": {
      "text/plain": [
       "1 days        2211\n",
       "0 days           9\n",
       "-2154 days       1\n",
       "Name: difference, dtype: int64"
      ]
     },
     "execution_count": 18,
     "metadata": {},
     "output_type": "execute_result"
    }
   ],
   "source": [
    "df2.difference.value_counts()"
   ]
  },
  {
   "cell_type": "code",
   "execution_count": 19,
   "metadata": {},
   "outputs": [
    {
     "data": {
      "text/html": [
       "<div>\n",
       "<style scoped>\n",
       "    .dataframe tbody tr th:only-of-type {\n",
       "        vertical-align: middle;\n",
       "    }\n",
       "\n",
       "    .dataframe tbody tr th {\n",
       "        vertical-align: top;\n",
       "    }\n",
       "\n",
       "    .dataframe thead th {\n",
       "        text-align: right;\n",
       "    }\n",
       "</style>\n",
       "<table border=\"1\" class=\"dataframe\">\n",
       "  <thead>\n",
       "    <tr style=\"text-align: right;\">\n",
       "      <th></th>\n",
       "      <th>date</th>\n",
       "      <th>time</th>\n",
       "      <th>temp</th>\n",
       "      <th>date2</th>\n",
       "      <th>difference</th>\n",
       "    </tr>\n",
       "  </thead>\n",
       "  <tbody>\n",
       "    <tr>\n",
       "      <th>10</th>\n",
       "      <td>2013-10-01</td>\n",
       "      <td>12:00:00</td>\n",
       "      <td>293.663344</td>\n",
       "      <td>2013-10-02</td>\n",
       "      <td>1 days</td>\n",
       "    </tr>\n",
       "    <tr>\n",
       "      <th>34</th>\n",
       "      <td>2013-10-02</td>\n",
       "      <td>12:00:00</td>\n",
       "      <td>294.440688</td>\n",
       "      <td>2013-10-03</td>\n",
       "      <td>1 days</td>\n",
       "    </tr>\n",
       "    <tr>\n",
       "      <th>58</th>\n",
       "      <td>2013-10-03</td>\n",
       "      <td>12:00:00</td>\n",
       "      <td>295.770000</td>\n",
       "      <td>2013-10-04</td>\n",
       "      <td>1 days</td>\n",
       "    </tr>\n",
       "  </tbody>\n",
       "</table>\n",
       "</div>"
      ],
      "text/plain": [
       "         date      time        temp      date2 difference\n",
       "10 2013-10-01  12:00:00  293.663344 2013-10-02     1 days\n",
       "34 2013-10-02  12:00:00  294.440688 2013-10-03     1 days\n",
       "58 2013-10-03  12:00:00  295.770000 2013-10-04     1 days"
      ]
     },
     "execution_count": 19,
     "metadata": {},
     "output_type": "execute_result"
    }
   ],
   "source": [
    "df2.head(3)"
   ]
  },
  {
   "cell_type": "code",
   "execution_count": 20,
   "metadata": {},
   "outputs": [],
   "source": [
    "df1 = df2[df2.difference == '1 days'].copy()"
   ]
  },
  {
   "cell_type": "code",
   "execution_count": 21,
   "metadata": {},
   "outputs": [
    {
     "data": {
      "text/plain": [
       "1 days    2211\n",
       "Name: difference, dtype: int64"
      ]
     },
     "execution_count": 21,
     "metadata": {},
     "output_type": "execute_result"
    }
   ],
   "source": [
    "df1.difference.value_counts()"
   ]
  },
  {
   "cell_type": "code",
   "execution_count": 22,
   "metadata": {},
   "outputs": [
    {
     "data": {
      "image/png": "[encoded data removed]",
      "text/plain": [
       "<Figure size 720x360 with 1 Axes>"
      ]
     },
     "metadata": {
      "needs_background": "light"
     },
     "output_type": "display_data"
    }
   ],
   "source": [
    "plt.figure(figsize=(10,5))\n",
    "plt.scatter(x=df2.date, y=df2.temp)\n",
    "plt.show()"
   ]
  },
  {
   "cell_type": "code",
   "execution_count": null,
   "metadata": {},
   "outputs": [],
   "source": []
  }
 ],
 "metadata": {
  "kernelspec": {
   "display_name": "Python 3",
   "language": "python",
   "name": "python3"
  },
  "language_info": {
   "codemirror_mode": {
    "name": "ipython",
    "version": 3
   },
   "file_extension": ".py",
   "mimetype": "text/x-python",
   "name": "python",
   "nbconvert_exporter": "python",
   "pygments_lexer": "ipython3",
   "version": "3.8.5"
  }
 },
 "nbformat": 4,
 "nbformat_minor": 4
}
